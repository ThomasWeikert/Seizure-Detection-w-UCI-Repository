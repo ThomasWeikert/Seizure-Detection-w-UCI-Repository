{
  "nbformat": 4,
  "nbformat_minor": 0,
  "metadata": {
    "anaconda-cloud": {},
    "colab": {
      "name": "Experiment_1dCNN_Bonn.ipynb",
      "provenance": [],
      "collapsed_sections": []
    },
    "kernelspec": {
      "display_name": "Python 3",
      "language": "python",
      "name": "python3"
    },
    "language_info": {
      "codemirror_mode": {
        "name": "ipython",
        "version": 3
      },
      "file_extension": ".py",
      "mimetype": "text/x-python",
      "name": "python",
      "nbconvert_exporter": "python",
      "pygments_lexer": "ipython3",
      "version": "3.7.3"
    },
    "accelerator": "GPU"
  },
  "cells": [
    {
      "cell_type": "code",
      "metadata": {
        "id": "uFRRcV8th3uK",
        "scrolled": true
      },
      "source": [
        "import os\n",
        "import numpy as np\n",
        "import glob\n",
        "import pandas as pd  \n",
        "#from keras import utils as np_utils\n",
        "import random\n",
        "import math as mp\n",
        "import pickle\n",
        " \n",
        "from sklearn.preprocessing import StandardScaler\n",
        "from sklearn.model_selection import train_test_split\n",
        "from sklearn.metrics import accuracy_score\n",
        "from sklearn.metrics import confusion_matrix\n",
        " \n",
        "import tensorflow as tf\n",
        "\n",
        "from keras.models import Sequential\n",
        "from keras.layers import Dense,Flatten,Dropout\n",
        "from keras.layers.convolutional import Conv1D,MaxPooling1D\n",
        "from keras.utils import to_categorical\n",
        "\n",
        "\n",
        "%matplotlib inline\n",
        "import matplotlib.pyplot as plt"
      ],
      "execution_count": 125,
      "outputs": []
    },
    {
      "cell_type": "code",
      "metadata": {
        "colab": {
          "base_uri": "https://localhost:8080/"
        },
        "id": "qdQVvB56h-_f",
        "outputId": "2862b989-2132-4f03-d3c3-d0628c274d2c"
      },
      "source": [
        "from google.colab import drive\n",
        "drive.mount('/content/drive')"
      ],
      "execution_count": 3,
      "outputs": [
        {
          "output_type": "stream",
          "text": [
            "Mounted at /content/drive\n"
          ],
          "name": "stdout"
        }
      ]
    },
    {
      "cell_type": "code",
      "metadata": {
        "id": "04HrUhYtgBvA"
      },
      "source": [
        "DATA_DIR = '/content/drive/MyDrive/Courses Aalto/AI in health tech/Project/Dataset'\r\n",
        "CATEGORIES = ['F','S']"
      ],
      "execution_count": 156,
      "outputs": []
    },
    {
      "cell_type": "code",
      "metadata": {
        "id": "aI-36XT4Jisq"
      },
      "source": [
        "training_data = []\r\n",
        "\r\n",
        "def create_training_data():\r\n",
        "  for category in CATEGORIES:\r\n",
        "    path = os.path.join(DATA_DIR,category)\r\n",
        "    class_num = CATEGORIES.index(category)\r\n",
        "    test = \"Fuck\"\r\n",
        "    for file in os.listdir(path):\r\n",
        "      #sample_list = []\r\n",
        "      label_list = []\r\n",
        "      df = np.loadtxt(os.path.join(path,file), delimiter=\",\")\r\n",
        "      #sample_list.append(np.array(df))\r\n",
        "      training_data.append([df,class_num])\r\n",
        "      #print(file)\r\n",
        "      #print('Single Array:', df)\r\n",
        "      #print('Kummulierte Liste', sample_list)\r\n",
        "      #print('Index:', class_num)\r\n",
        "      #print('training_data', training_data)\r\n",
        "      #print('---------------------')\r\n",
        "      \r\n",
        "\r\n",
        "\r\n",
        "create_training_data()\r\n",
        "random.shuffle(training_data)       \r\n"
      ],
      "execution_count": null,
      "outputs": []
    },
    {
      "cell_type": "code",
      "metadata": {
        "id": "crB6_WhN4vr-"
      },
      "source": [
        "training_data"
      ],
      "execution_count": null,
      "outputs": []
    },
    {
      "cell_type": "code",
      "metadata": {
        "id": "kyhxfUG3871X"
      },
      "source": [
        "#Create X and Y\r\n",
        "X = []\r\n",
        "Y = []\r\n",
        "for features, label in training_data:\r\n",
        "  X.append(features)\r\n",
        "  Y.append(label)\r\n"
      ],
      "execution_count": 14,
      "outputs": []
    },
    {
      "cell_type": "code",
      "metadata": {
        "colab": {
          "base_uri": "https://localhost:8080/"
        },
        "id": "SUF9DiSz3pYy",
        "outputId": "a7980e11-754b-47e2-963b-1b14b0064541"
      },
      "source": [
        "print(len(X[198]))\r\n",
        "Y[198]"
      ],
      "execution_count": 15,
      "outputs": [
        {
          "output_type": "stream",
          "text": [
            "4097\n"
          ],
          "name": "stdout"
        },
        {
          "output_type": "execute_result",
          "data": {
            "text/plain": [
              "1"
            ]
          },
          "metadata": {
            "tags": []
          },
          "execution_count": 15
        }
      ]
    },
    {
      "cell_type": "code",
      "metadata": {
        "id": "cs6VxBmLzwlV"
      },
      "source": [
        "X = np.array(X).reshape(-1, 4097, 1)\r\n",
        "Y = np.array(Y)"
      ],
      "execution_count": 16,
      "outputs": []
    },
    {
      "cell_type": "code",
      "metadata": {
        "colab": {
          "base_uri": "https://localhost:8080/"
        },
        "id": "bRQ6_mYy0L7d",
        "outputId": "e633ce86-ed44-4792-c703-85327751bed1"
      },
      "source": [
        "X.shape"
      ],
      "execution_count": 17,
      "outputs": [
        {
          "output_type": "execute_result",
          "data": {
            "text/plain": [
              "(200, 4097, 1)"
            ]
          },
          "metadata": {
            "tags": []
          },
          "execution_count": 17
        }
      ]
    },
    {
      "cell_type": "code",
      "metadata": {
        "id": "147Pz7Mf9_-Y"
      },
      "source": [
        "#Save X and Y for later use\r\n",
        "pickle_out = open(DATA_DIR + \"/X.pickle\", \"wb\")\r\n",
        "pickle.dump(X,pickle_out)\r\n",
        "pickle_out.close()\r\n",
        "\r\n",
        "pickle_out = open(DATA_DIR + \"/Y.pickle\", \"wb\")\r\n",
        "pickle.dump(Y,pickle_out)\r\n",
        "pickle_out.close()"
      ],
      "execution_count": 18,
      "outputs": []
    },
    {
      "cell_type": "code",
      "metadata": {
        "id": "PBTHiooIBx88"
      },
      "source": [
        "#Load X and Y from GD\r\n",
        "pickle_in = open(DATA_DIR + \"/X.pickle\",\"rb\")\r\n",
        "X = pickle.load(pickle_in)\r\n",
        "\r\n",
        "pickle_in = open(DATA_DIR + \"/Y.pickle\",\"rb\")\r\n",
        "Y = pickle.load(pickle_in)"
      ],
      "execution_count": 157,
      "outputs": []
    },
    {
      "cell_type": "code",
      "metadata": {
        "id": "6FtbxTfKh3uL"
      },
      "source": [
        "# normalisation of seizure signals and shaping into the right format\n",
        "X = tf.keras.utils.normalize(X, axis=1)\n",
        "Y = to_categorical(Y)"
      ],
      "execution_count": 158,
      "outputs": []
    },
    {
      "cell_type": "code",
      "metadata": {
        "id": "SnBqFTeJh3uN"
      },
      "source": [
        "def plot_eeg_signal(sig,lab,cnt):\n",
        "    flag=True\n",
        "    \n",
        "    i=0\n",
        "    for X,y in zip(sig,lab):\n",
        "        if i<cnt and y==0:\n",
        "            plt.figure(i,figsize=(30,5))\n",
        "            plt.plot(X,'b')\n",
        "            plt.title('Non Seizure EEG Signal')\n",
        "            i=i+1\n",
        "        if i==cnt:\n",
        "            break\n",
        "   \n",
        "    j=i\n",
        "    i=0\n",
        "    for X,y in zip(sig,lab):\n",
        "        if i<cnt and y==1:\n",
        "            plt.figure(i+j,figsize=(30,5))\n",
        "            plt.plot(X,'r')\n",
        "            plt.title('Seizure EEG Signal')\n",
        "            i=i+1\n",
        "        if i==cnt:\n",
        "            break\n",
        "    "
      ],
      "execution_count": 9,
      "outputs": []
    },
    {
      "cell_type": "code",
      "metadata": {
        "id": "Vg-mc5vlh3uN",
        "scrolled": false
      },
      "source": [
        "plot_eeg_signal(X,Y,5)"
      ],
      "execution_count": null,
      "outputs": []
    },
    {
      "cell_type": "code",
      "metadata": {
        "id": "yh72uKXTh3uN"
      },
      "source": [
        "y_train.shape\r\n",
        "y_train"
      ],
      "execution_count": null,
      "outputs": []
    },
    {
      "cell_type": "code",
      "metadata": {
        "id": "HtCwtuXph3uN"
      },
      "source": [
        "X_train, X_test, y_train, y_test = train_test_split(X, Y, test_size=0.20, random_state=42)"
      ],
      "execution_count": 159,
      "outputs": []
    },
    {
      "cell_type": "code",
      "metadata": {
        "colab": {
          "base_uri": "https://localhost:8080/"
        },
        "id": "jNsg2uyjtmpq",
        "outputId": "d452d505-db10-40a3-e016-1c812133b5a5"
      },
      "source": [
        "print(X_train.shape[1], X_train.shape[2], y_train.shape[1])"
      ],
      "execution_count": 160,
      "outputs": [
        {
          "output_type": "stream",
          "text": [
            "4097 1 2\n"
          ],
          "name": "stdout"
        }
      ]
    },
    {
      "cell_type": "code",
      "metadata": {
        "id": "xYgE-ht2h3uN",
        "colab": {
          "base_uri": "https://localhost:8080/"
        },
        "outputId": "009a3fc1-6edf-440e-bc2f-c50d347848cc"
      },
      "source": [
        "\n",
        "\n",
        "\n",
        "verbose, epochs, batch_size = 1, 25, 64\n",
        "n_timesteps, n_features, n_outputs =X_train.shape[1], X_train.shape[2], y_train.shape[1]\n",
        "\n",
        "model = Sequential()\n",
        "\n",
        "model.add(Conv1D(filters=64, kernel_size=3, activation='relu', input_shape=(n_timesteps,n_features)))\n",
        "model.add(Conv1D(filters=64, kernel_size=3, activation='relu'))\n",
        "model.add(Dropout(0.5))\n",
        "model.add(MaxPooling1D(pool_size=2))\n",
        "model.add(Flatten())\n",
        "model.add(Dense(100, activation='relu'))\n",
        "model.add(Dense(n_outputs, activation='softmax'))\n",
        "\n",
        "\n",
        "model.compile(loss='binary_crossentropy', optimizer='adam', metrics=['accuracy'])\n",
        "# fit network\n",
        "#cnn = model.fit(X_train, y_train, epochs=epochs, batch_size=batch_size, verbose=verbose, validation_data=(X_test,y_test))\n",
        "\n",
        "cnn=model.fit(X_train, y_train, batch_size=batch_size, epochs=epochs, verbose=verbose, validation_data=(X_test,y_test))\n",
        "#model=cnn.fit(X_train, y_train, batch_size=3, epochs=100, verbose=verbose)"
      ],
      "execution_count": 152,
      "outputs": [
        {
          "output_type": "stream",
          "text": [
            "Epoch 1/25\n",
            "3/3 [==============================] - 1s 123ms/step - loss: 0.6933 - accuracy: 0.4805 - val_loss: 0.7142 - val_accuracy: 0.4500\n",
            "Epoch 2/25\n",
            "3/3 [==============================] - 0s 51ms/step - loss: 0.6896 - accuracy: 0.5023 - val_loss: 0.6876 - val_accuracy: 0.4500\n",
            "Epoch 3/25\n",
            "3/3 [==============================] - 0s 48ms/step - loss: 0.6384 - accuracy: 0.7191 - val_loss: 0.6628 - val_accuracy: 0.7250\n",
            "Epoch 4/25\n",
            "3/3 [==============================] - 0s 42ms/step - loss: 0.5770 - accuracy: 0.8668 - val_loss: 0.6231 - val_accuracy: 0.6000\n",
            "Epoch 5/25\n",
            "3/3 [==============================] - 0s 47ms/step - loss: 0.5007 - accuracy: 0.8180 - val_loss: 0.6255 - val_accuracy: 0.6750\n",
            "Epoch 6/25\n",
            "3/3 [==============================] - 0s 40ms/step - loss: 0.4007 - accuracy: 0.8844 - val_loss: 0.5528 - val_accuracy: 0.7500\n",
            "Epoch 7/25\n",
            "3/3 [==============================] - 0s 42ms/step - loss: 0.3039 - accuracy: 0.9496 - val_loss: 0.5072 - val_accuracy: 0.7750\n",
            "Epoch 8/25\n",
            "3/3 [==============================] - 0s 41ms/step - loss: 0.2064 - accuracy: 0.9625 - val_loss: 0.4810 - val_accuracy: 0.7500\n",
            "Epoch 9/25\n",
            "3/3 [==============================] - 0s 40ms/step - loss: 0.1490 - accuracy: 0.9617 - val_loss: 0.4414 - val_accuracy: 0.7750\n",
            "Epoch 10/25\n",
            "3/3 [==============================] - 0s 40ms/step - loss: 0.1094 - accuracy: 0.9809 - val_loss: 0.4824 - val_accuracy: 0.7750\n",
            "Epoch 11/25\n",
            "3/3 [==============================] - 0s 41ms/step - loss: 0.0839 - accuracy: 0.9809 - val_loss: 0.3937 - val_accuracy: 0.8250\n",
            "Epoch 12/25\n",
            "3/3 [==============================] - 0s 41ms/step - loss: 0.0431 - accuracy: 1.0000 - val_loss: 0.3679 - val_accuracy: 0.8500\n",
            "Epoch 13/25\n",
            "3/3 [==============================] - 0s 41ms/step - loss: 0.0239 - accuracy: 1.0000 - val_loss: 0.4280 - val_accuracy: 0.8250\n",
            "Epoch 14/25\n",
            "3/3 [==============================] - 0s 42ms/step - loss: 0.0203 - accuracy: 1.0000 - val_loss: 0.3852 - val_accuracy: 0.8250\n",
            "Epoch 15/25\n",
            "3/3 [==============================] - 0s 41ms/step - loss: 0.0087 - accuracy: 1.0000 - val_loss: 0.4030 - val_accuracy: 0.8000\n",
            "Epoch 16/25\n",
            "3/3 [==============================] - 0s 42ms/step - loss: 0.0080 - accuracy: 1.0000 - val_loss: 0.4429 - val_accuracy: 0.8250\n",
            "Epoch 17/25\n",
            "3/3 [==============================] - 0s 41ms/step - loss: 0.0048 - accuracy: 1.0000 - val_loss: 0.4995 - val_accuracy: 0.8250\n",
            "Epoch 18/25\n",
            "3/3 [==============================] - 0s 41ms/step - loss: 0.0038 - accuracy: 1.0000 - val_loss: 0.4299 - val_accuracy: 0.8000\n",
            "Epoch 19/25\n",
            "3/3 [==============================] - 0s 41ms/step - loss: 0.0021 - accuracy: 1.0000 - val_loss: 0.4008 - val_accuracy: 0.8250\n",
            "Epoch 20/25\n",
            "3/3 [==============================] - 0s 114ms/step - loss: 0.0025 - accuracy: 1.0000 - val_loss: 0.3949 - val_accuracy: 0.8250\n",
            "Epoch 21/25\n",
            "3/3 [==============================] - 0s 43ms/step - loss: 0.0017 - accuracy: 1.0000 - val_loss: 0.3936 - val_accuracy: 0.8250\n",
            "Epoch 22/25\n",
            "3/3 [==============================] - 0s 41ms/step - loss: 0.0014 - accuracy: 1.0000 - val_loss: 0.4161 - val_accuracy: 0.8500\n",
            "Epoch 23/25\n",
            "3/3 [==============================] - 0s 41ms/step - loss: 0.0012 - accuracy: 1.0000 - val_loss: 0.4378 - val_accuracy: 0.8500\n",
            "Epoch 24/25\n",
            "3/3 [==============================] - 0s 40ms/step - loss: 0.0014 - accuracy: 1.0000 - val_loss: 0.4387 - val_accuracy: 0.8500\n",
            "Epoch 25/25\n",
            "3/3 [==============================] - 0s 41ms/step - loss: 9.1054e-04 - accuracy: 1.0000 - val_loss: 0.4256 - val_accuracy: 0.8500\n"
          ],
          "name": "stdout"
        }
      ]
    },
    {
      "cell_type": "code",
      "metadata": {
        "colab": {
          "base_uri": "https://localhost:8080/"
        },
        "id": "UKC_A5Qeh3uN",
        "outputId": "a450efb2-6c1b-4887-ce9b-8de95a0655ef"
      },
      "source": [
        "model.summary()"
      ],
      "execution_count": 90,
      "outputs": [
        {
          "output_type": "stream",
          "text": [
            "Model: \"sequential_36\"\n",
            "_________________________________________________________________\n",
            "Layer (type)                 Output Shape              Param #   \n",
            "=================================================================\n",
            "conv1d_90 (Conv1D)           (None, 4095, 64)          256       \n",
            "_________________________________________________________________\n",
            "conv1d_91 (Conv1D)           (None, 4093, 64)          12352     \n",
            "_________________________________________________________________\n",
            "dropout_27 (Dropout)         (None, 4093, 64)          0         \n",
            "_________________________________________________________________\n",
            "max_pooling1d_62 (MaxPooling (None, 2046, 64)          0         \n",
            "_________________________________________________________________\n",
            "flatten_34 (Flatten)         (None, 130944)            0         \n",
            "_________________________________________________________________\n",
            "dense_75 (Dense)             (None, 100)               13094500  \n",
            "_________________________________________________________________\n",
            "dense_76 (Dense)             (None, 1)                 101       \n",
            "=================================================================\n",
            "Total params: 13,107,209\n",
            "Trainable params: 13,107,209\n",
            "Non-trainable params: 0\n",
            "_________________________________________________________________\n"
          ],
          "name": "stdout"
        }
      ]
    },
    {
      "cell_type": "code",
      "metadata": {
        "id": "LPZauIAI9GQ_"
      },
      "source": [
        ""
      ],
      "execution_count": null,
      "outputs": []
    },
    {
      "cell_type": "code",
      "metadata": {
        "id": "JbAkb3Zoh3uP"
      },
      "source": [
        "def plot_acc_valgraph(cnn,num):\n",
        "    plt.figure(num)\n",
        "    plt.plot(cnn.history['accuracy'])\n",
        "    plt.plot(cnn.history['val_accuracy'])\n",
        "    plt.legend(['Training','Validation'])\n",
        "    plt.title('Accuracy')\n",
        "    plt.xlabel('Epochs')\n",
        "\n",
        "\n",
        "def plot_loss_valgraph(cnn,num):\n",
        "    plt.figure(num)\n",
        "    plt.plot(cnn.history['loss'])\n",
        "    plt.plot(cnn.history['val_loss'])\n",
        "    plt.legend(['Training','Validation'])\n",
        "    plt.title('Loss')\n",
        "    plt.xlabel('Epochs')"
      ],
      "execution_count": 94,
      "outputs": []
    },
    {
      "cell_type": "code",
      "metadata": {
        "colab": {
          "base_uri": "https://localhost:8080/",
          "height": 294
        },
        "id": "sS7u2n87h3uP",
        "outputId": "c17d161a-d7bb-43de-ba7c-4251f26ce032"
      },
      "source": [
        "plot_acc_valgraph(cnn,1)\r\n"
      ],
      "execution_count": 153,
      "outputs": [
        {
          "output_type": "display_data",
          "data": {
            "image/png": "[encoded data removed]",
            "text/plain": [
              "<Figure size 432x288 with 1 Axes>"
            ]
          },
          "metadata": {
            "tags": [],
            "needs_background": "light"
          }
        }
      ]
    },
    {
      "cell_type": "code",
      "metadata": {
        "colab": {
          "base_uri": "https://localhost:8080/",
          "height": 294
        },
        "id": "Qb5Xp6729HOG",
        "outputId": "342c4dd0-6798-48cc-b55b-6cc6d12ae58b"
      },
      "source": [
        "plot_loss_valgraph(cnn,1)"
      ],
      "execution_count": 154,
      "outputs": [
        {
          "output_type": "display_data",
          "data": {
            "image/png": "[encoded data removed]",
            "text/plain": [
              "<Figure size 432x288 with 1 Axes>"
            ]
          },
          "metadata": {
            "tags": [],
            "needs_background": "light"
          }
        }
      ]
    },
    {
      "cell_type": "code",
      "metadata": {
        "colab": {
          "base_uri": "https://localhost:8080/"
        },
        "id": "W1JVTEo_h3uP",
        "outputId": "de5c6778-252e-47ad-d6ec-a3de40b2b0f6"
      },
      "source": [
        "# evaluate the model\n",
        "score = cnn.evaluate(X_test, y_test, verbose=0)\n",
        "print('Test loss:', score[0]*100)\n",
        "print('Test accuracy:', score[1]*100)"
      ],
      "execution_count": 116,
      "outputs": [
        {
          "output_type": "stream",
          "text": [
            "Test loss: 69.1912591457367\n",
            "Test accuracy: 67.5000011920929\n"
          ],
          "name": "stdout"
        }
      ]
    },
    {
      "cell_type": "code",
      "metadata": {
        "colab": {
          "base_uri": "https://localhost:8080/"
        },
        "id": "vfJDdzmQh3uP",
        "outputId": "c5ba5ee9-656a-4267-9332-512a924d1cde"
      },
      "source": [
        "y_pred=cnn.predict(x=X_test, verbose=1)"
      ],
      "execution_count": 117,
      "outputs": [
        {
          "output_type": "stream",
          "text": [
            "2/2 [==============================] - 0s 8ms/step\n"
          ],
          "name": "stdout"
        }
      ]
    },
    {
      "cell_type": "code",
      "metadata": {
        "colab": {
          "base_uri": "https://localhost:8080/"
        },
        "id": "oPMzedVFh3uP",
        "outputId": "90fd28b0-cbc3-4fb1-f47a-1e459f35b507"
      },
      "source": [
        "y_test"
      ],
      "execution_count": 118,
      "outputs": [
        {
          "output_type": "execute_result",
          "data": {
            "text/plain": [
              "array([1, 1, 0, 0, 1, 1, 1, 1, 1, 1, 0, 1, 1, 0, 0, 0, 1, 0, 1, 1, 0, 1,\n",
              "       0, 0, 1, 1, 0, 0, 1, 0, 0, 0, 1, 1, 1, 0, 1, 0, 1, 1])"
            ]
          },
          "metadata": {
            "tags": []
          },
          "execution_count": 118
        }
      ]
    },
    {
      "cell_type": "code",
      "metadata": {
        "colab": {
          "base_uri": "https://localhost:8080/"
        },
        "id": "2V_2Cu2ah3uQ",
        "outputId": "290a9c34-ce45-4f37-94d2-bbfd981c316f"
      },
      "source": [
        "y_pred"
      ],
      "execution_count": 119,
      "outputs": [
        {
          "output_type": "execute_result",
          "data": {
            "text/plain": [
              "array([[0.49804953, 0.50195044],\n",
              "       [0.4992172 , 0.5007828 ],\n",
              "       [0.4995844 , 0.50041556],\n",
              "       [0.4995776 , 0.50042236],\n",
              "       [0.49778244, 0.50221753],\n",
              "       [0.49900934, 0.5009906 ],\n",
              "       [0.4991537 , 0.5008463 ],\n",
              "       [0.49789703, 0.502103  ],\n",
              "       [0.49875167, 0.5012483 ],\n",
              "       [0.49844784, 0.5015522 ],\n",
              "       [0.4991975 , 0.5008025 ],\n",
              "       [0.49785683, 0.50214314],\n",
              "       [0.49880084, 0.5011992 ],\n",
              "       [0.49963698, 0.50036293],\n",
              "       [0.4989485 , 0.50105155],\n",
              "       [0.4997387 , 0.50026125],\n",
              "       [0.499082  , 0.50091803],\n",
              "       [0.5000891 , 0.49991092],\n",
              "       [0.49824062, 0.5017594 ],\n",
              "       [0.49924177, 0.50075823],\n",
              "       [0.49989605, 0.5001039 ],\n",
              "       [0.49857196, 0.501428  ],\n",
              "       [0.49972796, 0.500272  ],\n",
              "       [0.49912977, 0.5008702 ],\n",
              "       [0.49813554, 0.50186443],\n",
              "       [0.4989801 , 0.50101995],\n",
              "       [0.5000888 , 0.49991116],\n",
              "       [0.49921125, 0.50078875],\n",
              "       [0.49938655, 0.5006135 ],\n",
              "       [0.49979633, 0.5002036 ],\n",
              "       [0.5006967 , 0.49930322],\n",
              "       [0.49950314, 0.5004968 ],\n",
              "       [0.4986669 , 0.50133306],\n",
              "       [0.49803478, 0.5019652 ],\n",
              "       [0.49975938, 0.5002406 ],\n",
              "       [0.4988773 , 0.50112265],\n",
              "       [0.49941596, 0.500584  ],\n",
              "       [0.50001407, 0.499986  ],\n",
              "       [0.49940208, 0.50059795],\n",
              "       [0.4970816 , 0.5029184 ]], dtype=float32)"
            ]
          },
          "metadata": {
            "tags": []
          },
          "execution_count": 119
        }
      ]
    },
    {
      "cell_type": "code",
      "metadata": {
        "id": "2v8ejgnkh3uQ"
      },
      "source": [
        "yy_pred1 = np.argmax(yy_pred, axis=1)"
      ],
      "execution_count": null,
      "outputs": []
    },
    {
      "cell_type": "code",
      "metadata": {
        "colab": {
          "base_uri": "https://localhost:8080/"
        },
        "id": "M6FepeGvh3uQ",
        "outputId": "89ba90a7-4d60-49aa-cddc-140fae15be02"
      },
      "source": [
        "accuracy = accuracy_score(yy_test, yy_pred1)\n",
        "print(accuracy*100)"
      ],
      "execution_count": null,
      "outputs": [
        {
          "output_type": "stream",
          "text": [
            "97.5\n"
          ],
          "name": "stdout"
        }
      ]
    },
    {
      "cell_type": "code",
      "metadata": {
        "id": "iprPpSAsh3uQ"
      },
      "source": [
        "def plot_confusion_matrix(y_true, y_pred, classes,\n",
        "                          title=None,\n",
        "                          cmap=plt.cm.Blues):\n",
        "    \"\"\"\n",
        "    This function prints and plots the confusion matrix.\n",
        "    Normalization can be applied by setting `normalize=True`.\n",
        "    \"\"\"\n",
        "    # Compute confusion matrix\n",
        "    cm = confusion_matrix(y_true, y_pred)\n",
        "    print(cm)\n",
        "\n",
        "    fig, ax = plt.subplots()\n",
        "    im = ax.imshow(cm, interpolation='nearest', cmap=cmap)\n",
        "    ax.figure.colorbar(im, ax=ax)\n",
        "    # We want to show all ticks...\n",
        "    ax.set(xticks=np.arange(cm.shape[1]),\n",
        "           yticks=np.arange(cm.shape[0]),\n",
        "           # ... and label them with the respective list entries\n",
        "           xticklabels=classes, yticklabels=classes,\n",
        "           title=title,\n",
        "           ylabel='True label',\n",
        "           xlabel='Predicted label')\n",
        "\n",
        "    # Rotate the tick labels and set their alignment.\n",
        "    plt.setp(ax.get_xticklabels(), rotation=45, ha=\"right\",\n",
        "             rotation_mode=\"anchor\")\n",
        "\n",
        "    # Loop over data dimensions and create text annotations.\n",
        "    # '.2f' if normalize else \n",
        "    fmt = 'd'\n",
        "    thresh = cm.max() / 2.\n",
        "    for i in range(cm.shape[0]):\n",
        "        for j in range(cm.shape[1]):\n",
        "            ax.text(j, i, format(cm[i, j], fmt),\n",
        "                    ha=\"center\", va=\"center\",\n",
        "                    color=\"white\" if cm[i, j] > thresh else \"black\")\n",
        "    fig.tight_layout()\n",
        "    return ax"
      ],
      "execution_count": null,
      "outputs": []
    },
    {
      "cell_type": "code",
      "metadata": {
        "colab": {
          "base_uri": "https://localhost:8080/",
          "height": 332
        },
        "id": "1EJhAVx-h3uQ",
        "outputId": "472803bf-d6d9-41d7-c9c5-359e4ac8badc"
      },
      "source": [
        "confusion_mat= plot_confusion_matrix(yy_test, yy_pred1, classes=[0,1], title='Confusion matrix - Bonn Database')"
      ],
      "execution_count": null,
      "outputs": [
        {
          "output_type": "stream",
          "text": [
            "[[19  0]\n",
            " [ 1 20]]\n"
          ],
          "name": "stdout"
        },
        {
          "output_type": "display_data",
          "data": {
            "image/png": "[encoded data removed]",
            "text/plain": [
              "<Figure size 432x288 with 2 Axes>"
            ]
          },
          "metadata": {
            "tags": []
          }
        }
      ]
    },
    {
      "cell_type": "code",
      "metadata": {
        "colab": {
          "base_uri": "https://localhost:8080/"
        },
        "id": "W0_7QSD_h3uR",
        "outputId": "60fb43c5-9195-4337-e4bc-3fcb92852a42"
      },
      "source": [
        "from sklearn.metrics import classification_report\n",
        "print(classification_report(yy_test,yy_pred1,target_names = ['Non-Seizure(0)', 'Seizure(1)']))"
      ],
      "execution_count": null,
      "outputs": [
        {
          "output_type": "stream",
          "text": [
            "                precision    recall  f1-score   support\n",
            "\n",
            "Non-Seizure(0)       0.95      1.00      0.97        19\n",
            "    Seizure(1)       1.00      0.95      0.98        21\n",
            "\n",
            "      accuracy                           0.97        40\n",
            "     macro avg       0.97      0.98      0.97        40\n",
            "  weighted avg       0.98      0.97      0.98        40\n",
            "\n"
          ],
          "name": "stdout"
        }
      ]
    },
    {
      "cell_type": "code",
      "metadata": {
        "id": "eeAd4VKOh3uR"
      },
      "source": [
        "#from tensorflow.keras.models import load_model\n",
        "\n",
        "cnn.save('BONN_CNN_MODEL.h5')  # creates a HDF5 file 'my_model.h5'\n",
        "\n",
        "\n",
        "# returns a compiled model\n",
        "# identical to the previous one\n",
        "#model = load_model('my_model.h5')"
      ],
      "execution_count": null,
      "outputs": []
    },
    {
      "cell_type": "code",
      "metadata": {
        "colab": {
          "base_uri": "https://localhost:8080/",
          "height": 352
        },
        "id": "9YBPXJw-h3uR",
        "outputId": "9894171b-fa9b-4719-e770-457f978d3589"
      },
      "source": [
        "# load generator\n",
        "from tensorflow.keras.models import load_model\n",
        "gen = load_model('./GAN_Generator_model2.h5')"
      ],
      "execution_count": null,
      "outputs": [
        {
          "output_type": "error",
          "ename": "OSError",
          "evalue": "ignored",
          "traceback": [
            "\u001b[0;31m---------------------------------------------------------------------------\u001b[0m",
            "\u001b[0;31mOSError\u001b[0m                                   Traceback (most recent call last)",
            "\u001b[0;32m<ipython-input-77-5a78fcd02ac7>\u001b[0m in \u001b[0;36m<module>\u001b[0;34m()\u001b[0m\n\u001b[1;32m      1\u001b[0m \u001b[0;31m# load generator\u001b[0m\u001b[0;34m\u001b[0m\u001b[0;34m\u001b[0m\u001b[0;34m\u001b[0m\u001b[0m\n\u001b[1;32m      2\u001b[0m \u001b[0;32mfrom\u001b[0m \u001b[0mtensorflow\u001b[0m\u001b[0;34m.\u001b[0m\u001b[0mkeras\u001b[0m\u001b[0;34m.\u001b[0m\u001b[0mmodels\u001b[0m \u001b[0;32mimport\u001b[0m \u001b[0mload_model\u001b[0m\u001b[0;34m\u001b[0m\u001b[0;34m\u001b[0m\u001b[0m\n\u001b[0;32m----> 3\u001b[0;31m \u001b[0mgen\u001b[0m \u001b[0;34m=\u001b[0m \u001b[0mload_model\u001b[0m\u001b[0;34m(\u001b[0m\u001b[0;34m'./GAN_Generator_model2.h5'\u001b[0m\u001b[0;34m)\u001b[0m\u001b[0;34m\u001b[0m\u001b[0;34m\u001b[0m\u001b[0m\n\u001b[0m",
            "\u001b[0;32m/usr/local/lib/python3.6/dist-packages/tensorflow/python/keras/saving/save.py\u001b[0m in \u001b[0;36mload_model\u001b[0;34m(filepath, custom_objects, compile, options)\u001b[0m\n\u001b[1;32m    184\u001b[0m     \u001b[0mfilepath\u001b[0m \u001b[0;34m=\u001b[0m \u001b[0mpath_to_string\u001b[0m\u001b[0;34m(\u001b[0m\u001b[0mfilepath\u001b[0m\u001b[0;34m)\u001b[0m\u001b[0;34m\u001b[0m\u001b[0;34m\u001b[0m\u001b[0m\n\u001b[1;32m    185\u001b[0m     \u001b[0;32mif\u001b[0m \u001b[0misinstance\u001b[0m\u001b[0;34m(\u001b[0m\u001b[0mfilepath\u001b[0m\u001b[0;34m,\u001b[0m \u001b[0msix\u001b[0m\u001b[0;34m.\u001b[0m\u001b[0mstring_types\u001b[0m\u001b[0;34m)\u001b[0m\u001b[0;34m:\u001b[0m\u001b[0;34m\u001b[0m\u001b[0;34m\u001b[0m\u001b[0m\n\u001b[0;32m--> 186\u001b[0;31m       \u001b[0mloader_impl\u001b[0m\u001b[0;34m.\u001b[0m\u001b[0mparse_saved_model\u001b[0m\u001b[0;34m(\u001b[0m\u001b[0mfilepath\u001b[0m\u001b[0;34m)\u001b[0m\u001b[0;34m\u001b[0m\u001b[0;34m\u001b[0m\u001b[0m\n\u001b[0m\u001b[1;32m    187\u001b[0m       \u001b[0;32mreturn\u001b[0m \u001b[0msaved_model_load\u001b[0m\u001b[0;34m.\u001b[0m\u001b[0mload\u001b[0m\u001b[0;34m(\u001b[0m\u001b[0mfilepath\u001b[0m\u001b[0;34m,\u001b[0m \u001b[0mcompile\u001b[0m\u001b[0;34m,\u001b[0m \u001b[0moptions\u001b[0m\u001b[0;34m)\u001b[0m\u001b[0;34m\u001b[0m\u001b[0;34m\u001b[0m\u001b[0m\n\u001b[1;32m    188\u001b[0m \u001b[0;34m\u001b[0m\u001b[0m\n",
            "\u001b[0;32m/usr/local/lib/python3.6/dist-packages/tensorflow/python/saved_model/loader_impl.py\u001b[0m in \u001b[0;36mparse_saved_model\u001b[0;34m(export_dir)\u001b[0m\n\u001b[1;32m    111\u001b[0m                   (export_dir,\n\u001b[1;32m    112\u001b[0m                    \u001b[0mconstants\u001b[0m\u001b[0;34m.\u001b[0m\u001b[0mSAVED_MODEL_FILENAME_PBTXT\u001b[0m\u001b[0;34m,\u001b[0m\u001b[0;34m\u001b[0m\u001b[0;34m\u001b[0m\u001b[0m\n\u001b[0;32m--> 113\u001b[0;31m                    constants.SAVED_MODEL_FILENAME_PB))\n\u001b[0m\u001b[1;32m    114\u001b[0m \u001b[0;34m\u001b[0m\u001b[0m\n\u001b[1;32m    115\u001b[0m \u001b[0;34m\u001b[0m\u001b[0m\n",
            "\u001b[0;31mOSError\u001b[0m: SavedModel file does not exist at: ./GAN_Generator_model2.h5/{saved_model.pbtxt|saved_model.pb}"
          ]
        }
      ]
    },
    {
      "cell_type": "code",
      "metadata": {
        "colab": {
          "base_uri": "https://localhost:8080/",
          "height": 239
        },
        "id": "xwS_tm8Ch3uR",
        "outputId": "e252d2d5-06e0-4001-f0a0-3755ad9f2a28"
      },
      "source": [
        "# generate 100 synthetic seizure signals\n",
        "signal_gen = []\n",
        "for i in range(0,100):\n",
        "    noise = tf.random.normal([1, 100])\n",
        "    generated_signal = gen(noise, training=False)\n",
        "    generated_signal = generated_signal[:,:,0,:]\n",
        "    signal_gen.append(generated_signal[0])\n"
      ],
      "execution_count": null,
      "outputs": [
        {
          "output_type": "error",
          "ename": "NameError",
          "evalue": "ignored",
          "traceback": [
            "\u001b[0;31m---------------------------------------------------------------------------\u001b[0m",
            "\u001b[0;31mNameError\u001b[0m                                 Traceback (most recent call last)",
            "\u001b[0;32m<ipython-input-78-69e0a0dae6a3>\u001b[0m in \u001b[0;36m<module>\u001b[0;34m()\u001b[0m\n\u001b[1;32m      3\u001b[0m \u001b[0;32mfor\u001b[0m \u001b[0mi\u001b[0m \u001b[0;32min\u001b[0m \u001b[0mrange\u001b[0m\u001b[0;34m(\u001b[0m\u001b[0;36m0\u001b[0m\u001b[0;34m,\u001b[0m\u001b[0;36m100\u001b[0m\u001b[0;34m)\u001b[0m\u001b[0;34m:\u001b[0m\u001b[0;34m\u001b[0m\u001b[0;34m\u001b[0m\u001b[0m\n\u001b[1;32m      4\u001b[0m     \u001b[0mnoise\u001b[0m \u001b[0;34m=\u001b[0m \u001b[0mtf\u001b[0m\u001b[0;34m.\u001b[0m\u001b[0mrandom\u001b[0m\u001b[0;34m.\u001b[0m\u001b[0mnormal\u001b[0m\u001b[0;34m(\u001b[0m\u001b[0;34m[\u001b[0m\u001b[0;36m1\u001b[0m\u001b[0;34m,\u001b[0m \u001b[0;36m100\u001b[0m\u001b[0;34m]\u001b[0m\u001b[0;34m)\u001b[0m\u001b[0;34m\u001b[0m\u001b[0;34m\u001b[0m\u001b[0m\n\u001b[0;32m----> 5\u001b[0;31m     \u001b[0mgenerated_signal\u001b[0m \u001b[0;34m=\u001b[0m \u001b[0mgen\u001b[0m\u001b[0;34m(\u001b[0m\u001b[0mnoise\u001b[0m\u001b[0;34m,\u001b[0m \u001b[0mtraining\u001b[0m\u001b[0;34m=\u001b[0m\u001b[0;32mFalse\u001b[0m\u001b[0;34m)\u001b[0m\u001b[0;34m\u001b[0m\u001b[0;34m\u001b[0m\u001b[0m\n\u001b[0m\u001b[1;32m      6\u001b[0m     \u001b[0mgenerated_signal\u001b[0m \u001b[0;34m=\u001b[0m \u001b[0mgenerated_signal\u001b[0m\u001b[0;34m[\u001b[0m\u001b[0;34m:\u001b[0m\u001b[0;34m,\u001b[0m\u001b[0;34m:\u001b[0m\u001b[0;34m,\u001b[0m\u001b[0;36m0\u001b[0m\u001b[0;34m,\u001b[0m\u001b[0;34m:\u001b[0m\u001b[0;34m]\u001b[0m\u001b[0;34m\u001b[0m\u001b[0;34m\u001b[0m\u001b[0m\n\u001b[1;32m      7\u001b[0m     \u001b[0msignal_gen\u001b[0m\u001b[0;34m.\u001b[0m\u001b[0mappend\u001b[0m\u001b[0;34m(\u001b[0m\u001b[0mgenerated_signal\u001b[0m\u001b[0;34m[\u001b[0m\u001b[0;36m0\u001b[0m\u001b[0;34m]\u001b[0m\u001b[0;34m)\u001b[0m\u001b[0;34m\u001b[0m\u001b[0;34m\u001b[0m\u001b[0m\n",
            "\u001b[0;31mNameError\u001b[0m: name 'gen' is not defined"
          ]
        }
      ]
    },
    {
      "cell_type": "code",
      "metadata": {
        "id": "T-z_yCMih3uR"
      },
      "source": [
        "signal_gen = np.array(signal_gen)"
      ],
      "execution_count": null,
      "outputs": []
    },
    {
      "cell_type": "code",
      "metadata": {
        "id": "sv4_fLUMh3uR"
      },
      "source": [
        "# obtain 100 real non-seizure signals\n",
        "#from sklearn.preprocessing import normalize\n",
        "#path='D:/'\n",
        "dr='Z'\n",
        "sfilenames=[]\n",
        "\n",
        "if dr=='N':\n",
        "    end='/*.TXT'\n",
        "else:\n",
        "    end='/*.txt' \n",
        "\n",
        "#end='/*.txt'\n",
        "sfilenames=glob.glob(path + dr + end)\n",
        "import numpy as np\n",
        "import pandas as pd\n",
        "\n",
        "def generate_datasets(filenames):\n",
        "    arry=[]    \n",
        "    for files in filenames:\n",
        "        df=pd.read_table(files,names=\"X\")\n",
        "        arry.append(np.array(df,dtype=\"float32\"))\n",
        "    return np.array(arry) "
      ],
      "execution_count": null,
      "outputs": []
    },
    {
      "cell_type": "code",
      "metadata": {
        "id": "vu3qaRBih3uR",
        "outputId": "6a6c5d74-e60d-40c8-ce9d-1a7ccc2d0731"
      },
      "source": [
        "len(sfilenames)"
      ],
      "execution_count": null,
      "outputs": [
        {
          "output_type": "execute_result",
          "data": {
            "text/plain": [
              "100"
            ]
          },
          "metadata": {
            "tags": []
          },
          "execution_count": 124
        }
      ]
    },
    {
      "cell_type": "code",
      "metadata": {
        "id": "HmXjitagh3uR"
      },
      "source": [
        "signals = generate_datasets(sfilenames)\n",
        "### try normalising whole dataset"
      ],
      "execution_count": null,
      "outputs": []
    },
    {
      "cell_type": "code",
      "metadata": {
        "id": "qah48VuRh3uR"
      },
      "source": [
        "X = signals\n",
        "XC=X\n",
        "X1=X.reshape(len(X)*4097,order='F')\n",
        "X2=X1.reshape(4097,len(X))\n",
        "\n",
        "X2=scaler.fit_transform(X2)# normalize(X2,axis=1) \n",
        "\n",
        "X3=np.reshape(X2,4097*len(X),order='F')\n",
        "X4=X3.reshape(len(X),4097,1)\n",
        "X=X4\n",
        "signals = X"
      ],
      "execution_count": null,
      "outputs": []
    },
    {
      "cell_type": "code",
      "metadata": {
        "id": "rbs4xgYih3uR",
        "outputId": "fc91a835-8741-4b69-e68a-fc6c17b4d8db"
      },
      "source": [
        "'''\n",
        "# Normalising synthetic signals\n",
        "X = signal_gen\n",
        "XC=X\n",
        "X1=X.reshape(len(X)*4097,order='F')\n",
        "X2=X1.reshape(4097,len(X))\n",
        "\n",
        "X2=normalize(X2,axis=1)\n",
        "\n",
        "X3=np.reshape(X2,4097*len(X),order='F')\n",
        "X4=X3.reshape(len(X),4097,1)\n",
        "X=X4\n",
        "signal_gen = X\n",
        "'''"
      ],
      "execution_count": null,
      "outputs": [
        {
          "output_type": "execute_result",
          "data": {
            "text/plain": [
              "\"\\n# Normalising synthetic signals\\nX = signal_gen\\nXC=X\\nX1=X.reshape(len(X)*4097,order='F')\\nX2=X1.reshape(4097,len(X))\\n\\nX2=normalize(X2,axis=1)\\n\\nX3=np.reshape(X2,4097*len(X),order='F')\\nX4=X3.reshape(len(X),4097,1)\\nX=X4\\nsignal_gen = X\\n\""
            ]
          },
          "metadata": {
            "tags": []
          },
          "execution_count": 111
        }
      ]
    },
    {
      "cell_type": "code",
      "metadata": {
        "id": "GvKY3jJOh3uS",
        "outputId": "6a6007b6-1890-4a63-a7a9-afbca3e2319d"
      },
      "source": [
        "x_test = np.append(signal_gen,signals, axis=0)  # 1,0\n",
        "x_test.shape"
      ],
      "execution_count": null,
      "outputs": [
        {
          "output_type": "execute_result",
          "data": {
            "text/plain": [
              "(200, 4097, 1)"
            ]
          },
          "metadata": {
            "tags": []
          },
          "execution_count": 112
        }
      ]
    },
    {
      "cell_type": "code",
      "metadata": {
        "id": "s-zmTxnNh3uS",
        "outputId": "56b2d405-4ed5-4318-a6e7-45b1bed31535"
      },
      "source": [
        "x_test.shape"
      ],
      "execution_count": null,
      "outputs": [
        {
          "output_type": "execute_result",
          "data": {
            "text/plain": [
              "(200, 4097, 1)"
            ]
          },
          "metadata": {
            "tags": []
          },
          "execution_count": 113
        }
      ]
    },
    {
      "cell_type": "code",
      "metadata": {
        "id": "Dpnm_kTCh3uS",
        "outputId": "cf37a3d3-42ea-4e49-89f9-e96efc3624ed"
      },
      "source": [
        "y_zero = np.zeros((100,),dtype='int64')\n",
        "y_ones = np.ones((100,),dtype='int64')\n",
        "y_test = np.append(y_ones, y_zero, axis=0)\n",
        "y_test.shape\n"
      ],
      "execution_count": null,
      "outputs": [
        {
          "output_type": "execute_result",
          "data": {
            "text/plain": [
              "(200,)"
            ]
          },
          "metadata": {
            "tags": []
          },
          "execution_count": 114
        }
      ]
    },
    {
      "cell_type": "code",
      "metadata": {
        "id": "rlfF7pBLh3uS",
        "outputId": "455b697e-3e79-4508-971d-e1a5dd9fcc9f"
      },
      "source": [
        "y_test"
      ],
      "execution_count": null,
      "outputs": [
        {
          "output_type": "execute_result",
          "data": {
            "text/plain": [
              "array([1, 1, 1, 1, 1, 1, 1, 1, 1, 1, 1, 1, 1, 1, 1, 1, 1, 1, 1, 1, 1, 1,\n",
              "       1, 1, 1, 1, 1, 1, 1, 1, 1, 1, 1, 1, 1, 1, 1, 1, 1, 1, 1, 1, 1, 1,\n",
              "       1, 1, 1, 1, 1, 1, 1, 1, 1, 1, 1, 1, 1, 1, 1, 1, 1, 1, 1, 1, 1, 1,\n",
              "       1, 1, 1, 1, 1, 1, 1, 1, 1, 1, 1, 1, 1, 1, 1, 1, 1, 1, 1, 1, 1, 1,\n",
              "       1, 1, 1, 1, 1, 1, 1, 1, 1, 1, 1, 1, 0, 0, 0, 0, 0, 0, 0, 0, 0, 0,\n",
              "       0, 0, 0, 0, 0, 0, 0, 0, 0, 0, 0, 0, 0, 0, 0, 0, 0, 0, 0, 0, 0, 0,\n",
              "       0, 0, 0, 0, 0, 0, 0, 0, 0, 0, 0, 0, 0, 0, 0, 0, 0, 0, 0, 0, 0, 0,\n",
              "       0, 0, 0, 0, 0, 0, 0, 0, 0, 0, 0, 0, 0, 0, 0, 0, 0, 0, 0, 0, 0, 0,\n",
              "       0, 0, 0, 0, 0, 0, 0, 0, 0, 0, 0, 0, 0, 0, 0, 0, 0, 0, 0, 0, 0, 0,\n",
              "       0, 0])"
            ]
          },
          "metadata": {
            "tags": []
          },
          "execution_count": 115
        }
      ]
    },
    {
      "cell_type": "code",
      "metadata": {
        "id": "U9gBIWa_h3uS",
        "outputId": "a90196a8-c592-4720-aad4-3fae1ad69b24"
      },
      "source": [
        "# evaluate the model\n",
        "score = cnn.evaluate(x_test, y_test, verbose=0)\n",
        "print('Test loss:', score[0]*100)\n",
        "print('Test accuracy:', score[1]*100)"
      ],
      "execution_count": null,
      "outputs": [
        {
          "output_type": "stream",
          "text": [
            "Test loss: 2.4479124695059227\n",
            "Test accuracy: 100.0\n"
          ],
          "name": "stdout"
        }
      ]
    },
    {
      "cell_type": "code",
      "metadata": {
        "id": "OOBdSj4Bh3uS",
        "outputId": "a70a0a7a-c724-4165-ace4-a68c586c5361"
      },
      "source": [
        "y_pred2 = cnn.predict(x=x_test, verbose=1)"
      ],
      "execution_count": null,
      "outputs": [
        {
          "output_type": "stream",
          "text": [
            "200/200 [==============================] - 0s 73us/sample\n"
          ],
          "name": "stdout"
        }
      ]
    },
    {
      "cell_type": "code",
      "metadata": {
        "id": "vN9XU8_Rh3uT"
      },
      "source": [
        "y_pred3 = np.argmax(y_pred2, axis=1)"
      ],
      "execution_count": null,
      "outputs": []
    },
    {
      "cell_type": "code",
      "metadata": {
        "id": "l7AnSfPlh3uT",
        "outputId": "c83b977f-7c13-4adf-d5cb-74c27e06ea09"
      },
      "source": [
        "y_pred3"
      ],
      "execution_count": null,
      "outputs": [
        {
          "output_type": "execute_result",
          "data": {
            "text/plain": [
              "array([1, 1, 1, 1, 1, 1, 1, 1, 1, 1, 1, 1, 1, 1, 1, 1, 1, 1, 1, 1, 1, 1,\n",
              "       1, 1, 1, 1, 1, 1, 1, 1, 1, 1, 1, 1, 1, 1, 1, 1, 1, 1, 1, 1, 1, 1,\n",
              "       1, 1, 1, 1, 1, 1, 1, 1, 1, 1, 1, 1, 1, 1, 1, 1, 1, 1, 1, 1, 1, 1,\n",
              "       1, 1, 1, 1, 1, 1, 1, 1, 1, 1, 1, 1, 1, 1, 1, 1, 1, 1, 1, 1, 1, 1,\n",
              "       1, 1, 1, 1, 1, 1, 1, 1, 1, 1, 1, 1, 0, 0, 0, 0, 0, 0, 0, 0, 0, 0,\n",
              "       0, 0, 0, 0, 0, 0, 0, 0, 0, 0, 0, 0, 0, 0, 0, 0, 0, 0, 0, 0, 0, 0,\n",
              "       0, 0, 0, 0, 0, 0, 0, 0, 0, 0, 0, 0, 0, 0, 0, 0, 0, 0, 0, 0, 0, 0,\n",
              "       0, 0, 0, 0, 0, 0, 0, 0, 0, 0, 0, 0, 0, 0, 0, 0, 0, 0, 0, 0, 0, 0,\n",
              "       0, 0, 0, 0, 0, 0, 0, 0, 0, 0, 0, 0, 0, 0, 0, 0, 0, 0, 0, 0, 0, 0,\n",
              "       0, 0])"
            ]
          },
          "metadata": {
            "tags": []
          },
          "execution_count": 119
        }
      ]
    },
    {
      "cell_type": "code",
      "metadata": {
        "id": "h9dpbCO_h3uT",
        "outputId": "2c247d79-efb5-4fb3-dcb1-74a4f06c13a6"
      },
      "source": [
        "accuracy = accuracy_score(y_test, y_pred3)\n",
        "print(accuracy*100)"
      ],
      "execution_count": null,
      "outputs": [
        {
          "output_type": "stream",
          "text": [
            "100.0\n"
          ],
          "name": "stdout"
        }
      ]
    },
    {
      "cell_type": "code",
      "metadata": {
        "id": "26JP0IbGh3uT",
        "outputId": "49f68b2e-88b5-4bab-b0cb-e6a0676202a4"
      },
      "source": [
        "confusion_mat = plot_confusion_matrix(y_test, y_pred3, classes=[0,1], title='Confusion matrix - Bonn Database')"
      ],
      "execution_count": null,
      "outputs": [
        {
          "output_type": "stream",
          "text": [
            "[[100   0]\n",
            " [  0 100]]\n"
          ],
          "name": "stdout"
        },
        {
          "output_type": "display_data",
          "data": {
            "image/png": "[encoded data removed]",
            "text/plain": [
              "<Figure size 432x288 with 2 Axes>"
            ]
          },
          "metadata": {
            "tags": []
          }
        }
      ]
    },
    {
      "cell_type": "code",
      "metadata": {
        "id": "BItWtSB8h3uT",
        "outputId": "b8572d59-888e-4eec-9b16-5af8ce4986c2"
      },
      "source": [
        "from sklearn.metrics import classification_report\n",
        "print(classification_report(y_test,y_pred3,target_names = ['Non-Seizure(0)', 'Seizure(1)']))"
      ],
      "execution_count": null,
      "outputs": [
        {
          "output_type": "stream",
          "text": [
            "                precision    recall  f1-score   support\n",
            "\n",
            "Non-Seizure(0)       1.00      1.00      1.00       100\n",
            "    Seizure(1)       1.00      1.00      1.00       100\n",
            "\n",
            "      accuracy                           1.00       200\n",
            "     macro avg       1.00      1.00      1.00       200\n",
            "  weighted avg       1.00      1.00      1.00       200\n",
            "\n"
          ],
          "name": "stdout"
        }
      ]
    }
  ]
}