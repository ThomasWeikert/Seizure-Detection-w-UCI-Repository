{
  "nbformat": 4,
  "nbformat_minor": 0,
  "metadata": {
    "colab": {
      "name": "UCI_Dataset.ipynb",
      "provenance": [],
      "collapsed_sections": []
    },
    "kernelspec": {
      "name": "python3",
      "display_name": "Python 3"
    }
  },
  "cells": [
    {
      "cell_type": "code",
      "metadata": {
        "id": "J3vbc1TO15UT"
      },
      "source": [
        "import os\n",
        "import numpy as np\n",
        "import glob\n",
        "import pandas as pd  \n",
        "#from keras import utils as np_utils\n",
        "import random\n",
        "import math as mp\n",
        "from scipy.signal import resample\n",
        "\n",
        "\n",
        "from sklearn.preprocessing import StandardScaler\n",
        "from sklearn.model_selection import train_test_split\n",
        "from sklearn.metrics import accuracy_score\n",
        "from sklearn.metrics import confusion_matrix\n",
        "\n",
        "import tensorflow as tf\n",
        "from tensorflow.keras import layers, models\n",
        "\n",
        "from sklearn.preprocessing import LabelEncoder\n",
        "from sklearn.preprocessing import StandardScaler\n",
        "from sklearn.model_selection import StratifiedShuffleSplit\n",
        "from keras.models import Sequential\n",
        "from keras.layers import Dense, Activation, Flatten, Convolution1D, Dropout, MaxPooling1D,GlobalAveragePooling1D\n",
        "from keras.optimizers import SGD\n",
        "from keras.utils import np_utils\n",
        "import keras\n",
        "from sklearn.model_selection import train_test_split\n",
        "from sklearn import preprocessing\n",
        "from keras.models import Sequential\n",
        "from keras.utils import np_utils\n",
        "from keras.layers import Dense, Activation , LSTM , Dropout , AveragePooling3D\n",
        "\n",
        "\n",
        "import matplotlib.pyplot as plt\n",
        "\n",
        "\n",
        "\n",
        "%matplotlib inline\n",
        "import matplotlib.pyplot as plt\n",
        "\n",
        "\n",
        "from sklearn.preprocessing import LabelEncoder\n",
        "from sklearn.preprocessing import StandardScaler\n",
        "from sklearn.model_selection import StratifiedShuffleSplit\n",
        "from keras.models import Sequential\n",
        "from keras.layers import Dense, Activation, Flatten, Conv1D, Dropout, MaxPool1D,GlobalAveragePooling1D\n",
        "from keras.optimizers import SGD\n",
        "from keras.utils import np_utils\n",
        "import keras"
      ],
      "execution_count": 1,
      "outputs": []
    },
    {
      "cell_type": "code",
      "metadata": {
        "id": "lne43cB72Jrw"
      },
      "source": [
        "\n"
      ],
      "execution_count": null,
      "outputs": []
    },
    {
      "cell_type": "code",
      "metadata": {
        "id": "7sre93jkKUyb",
        "outputId": "9cfd2a7c-799b-4c27-b161-f121ebd6e1b1",
        "colab": {
          "base_uri": "https://localhost:8080/"
        }
      },
      "source": [
        "#get data from url\n",
        "url = \"https://archive.ics.uci.edu/ml/machine-learning-databases/00388/data.csv\"\n",
        "data = pd.read_csv(url)\n",
        "\n",
        "\n",
        "#get label vector y\n",
        "data['y'] = data['y'].replace([5,4,3,2],0) #0 = non-seizure #1 = seizure\n",
        "y = np.array(data['y']) #get labels\n",
        "#y = keras.utils.to_categorical(y , num_classes=2)\n",
        "y = np.asarray(y).astype('float32').reshape((-1,1))\n",
        "print(y.shape)\n",
        "\n",
        "\n",
        "#get feature matrix X\n",
        "X = data.iloc[:,1:-1] #cut indicis\n",
        "print(X.shape)\n"
      ],
      "execution_count": 14,
      "outputs": [
        {
          "output_type": "stream",
          "text": [
            "(11500, 1)\n",
            "(11500, 178)\n"
          ],
          "name": "stdout"
        }
      ]
    },
    {
      "cell_type": "code",
      "metadata": {
        "id": "dehxP5jqVa9P",
        "outputId": "2f005e6c-9834-4339-ca02-fdce9535d24a",
        "colab": {
          "base_uri": "https://localhost:8080/"
        }
      },
      "source": [
        "X_train, X_test, y_train, y_test = train_test_split(X, y, test_size=0.20, random_state=1)\n",
        "print(X_train.shape)\n",
        "print(X_test.shape)\n",
        "print(y_train.shape)\n",
        "print(y_test.shape)"
      ],
      "execution_count": 15,
      "outputs": [
        {
          "output_type": "stream",
          "text": [
            "(9200, 178)\n",
            "(2300, 178)\n",
            "(9200, 1)\n",
            "(2300, 1)\n"
          ],
          "name": "stdout"
        }
      ]
    },
    {
      "cell_type": "code",
      "metadata": {
        "id": "6u397ZdAO97F",
        "outputId": "bf0b9dde-fad7-4089-8cfc-6993c43f8b90",
        "colab": {
          "base_uri": "https://localhost:8080/"
        }
      },
      "source": [
        "#reshape the input data\n",
        "X_train = X_train.values.reshape(-1,178,1)\n",
        "X_test = X_test.values.reshape(-1,178,1)\n",
        "\n",
        "print(X_test.shape)\n",
        "print(X_train.shape)"
      ],
      "execution_count": 16,
      "outputs": [
        {
          "output_type": "stream",
          "text": [
            "(2300, 178, 1)\n",
            "(9200, 178, 1)\n"
          ],
          "name": "stdout"
        }
      ]
    },
    {
      "cell_type": "code",
      "metadata": {
        "id": "ZFsRNL082J1J"
      },
      "source": [
        "# normalizing:\n",
        "\n",
        "#standard_scaler = preprocessing.StandardScaler()\n",
        "#X_train = pd.DataFrame(standard_scaler.fit_transform(X_train))\n",
        "#X_test = pd.DataFrame(standard_scaler.fit_transform(X_test))"
      ],
      "execution_count": 17,
      "outputs": []
    },
    {
      "cell_type": "code",
      "metadata": {
        "id": "bGe6EHWm2Ju_",
        "outputId": "fb5dac1a-ba9b-4e28-bb80-41cf1e4e30f1",
        "colab": {
          "base_uri": "https://localhost:8080/"
        }
      },
      "source": [
        "CNN1D = Sequential()\n",
        "CNN1D.add(Conv1D(10,10,activation='relu',input_shape=(178,1)))\n",
        "CNN1D.add(MaxPool1D(4,1))\n",
        "CNN1D.add(Dropout(0.2))\n",
        "CNN1D.add(LSTM(128, return_sequences=True))\n",
        "CNN1D.add(LSTM(64)) \n",
        "CNN1D.add(Dense(1,activation='sigmoid'))\n",
        "CNN1D.compile(loss='binary_crossentropy', optimizer='adam', metrics=['accuracy'])\n",
        "\n",
        "CNN1D.fit(X_train, y_train, epochs=5, batch_size=100)\n"
      ],
      "execution_count": 24,
      "outputs": [
        {
          "output_type": "stream",
          "text": [
            "Epoch 1/5\n",
            "92/92 [==============================] - 50s 548ms/step - loss: 0.2184 - accuracy: 0.9092\n",
            "Epoch 2/5\n",
            "92/92 [==============================] - 50s 539ms/step - loss: 0.1040 - accuracy: 0.9628\n",
            "Epoch 3/5\n",
            "92/92 [==============================] - 50s 540ms/step - loss: 0.0854 - accuracy: 0.9718\n",
            "Epoch 4/5\n",
            "92/92 [==============================] - 50s 545ms/step - loss: 0.0738 - accuracy: 0.9746\n",
            "Epoch 5/5\n",
            "92/92 [==============================] - 50s 548ms/step - loss: 0.0767 - accuracy: 0.9698\n"
          ],
          "name": "stdout"
        },
        {
          "output_type": "execute_result",
          "data": {
            "text/plain": [
              "<tensorflow.python.keras.callbacks.History at 0x7f382ee75668>"
            ]
          },
          "metadata": {
            "tags": []
          },
          "execution_count": 24
        }
      ]
    },
    {
      "cell_type": "code",
      "metadata": {
        "id": "mFr5DlfRZv5N",
        "outputId": "e32a153b-c0cd-426d-ef8f-7b39facbdd83",
        "colab": {
          "base_uri": "https://localhost:8080/"
        }
      },
      "source": [
        "\n",
        "scores = CNN1D.evaluate(X_test, y_test)\n",
        "print(\"\\n%s: %.2f%%\" % (CNN1D.metrics_names[1], scores[1]*100))"
      ],
      "execution_count": 23,
      "outputs": [
        {
          "output_type": "stream",
          "text": [
            "72/72 [==============================] - 5s 73ms/step - loss: 0.0767 - accuracy: 0.9726\n",
            "\n",
            "accuracy: 97.26%\n"
          ],
          "name": "stdout"
        }
      ]
    },
    {
      "cell_type": "code",
      "metadata": {
        "id": "1zPWJzjfk89M",
        "outputId": "56f4b395-4c9c-4bcb-cd6f-973891154349",
        "colab": {
          "base_uri": "https://localhost:8080/"
        }
      },
      "source": [
        "CNN1D.summary()"
      ],
      "execution_count": 27,
      "outputs": [
        {
          "output_type": "stream",
          "text": [
            "Model: \"sequential_4\"\n",
            "_________________________________________________________________\n",
            "Layer (type)                 Output Shape              Param #   \n",
            "=================================================================\n",
            "conv1d_4 (Conv1D)            (None, 169, 10)           110       \n",
            "_________________________________________________________________\n",
            "max_pooling1d_4 (MaxPooling1 (None, 166, 10)           0         \n",
            "_________________________________________________________________\n",
            "dropout_4 (Dropout)          (None, 166, 10)           0         \n",
            "_________________________________________________________________\n",
            "lstm_8 (LSTM)                (None, 166, 128)          71168     \n",
            "_________________________________________________________________\n",
            "lstm_9 (LSTM)                (None, 64)                49408     \n",
            "_________________________________________________________________\n",
            "dense_4 (Dense)              (None, 1)                 65        \n",
            "=================================================================\n",
            "Total params: 120,751\n",
            "Trainable params: 120,751\n",
            "Non-trainable params: 0\n",
            "_________________________________________________________________\n"
          ],
          "name": "stdout"
        }
      ]
    },
    {
      "cell_type": "code",
      "metadata": {
        "id": "APRxD5uroEGJ"
      },
      "source": [
        ""
      ],
      "execution_count": null,
      "outputs": []
    }
  ]
}